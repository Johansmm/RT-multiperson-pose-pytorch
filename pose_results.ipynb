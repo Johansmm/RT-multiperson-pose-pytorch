{
  "nbformat": 4,
  "nbformat_minor": 0,
  "metadata": {
    "kernelspec": {
      "display_name": "Python 3",
      "language": "python",
      "name": "python3"
    },
    "language_info": {
      "codemirror_mode": {
        "name": "ipython",
        "version": 3
      },
      "file_extension": ".py",
      "mimetype": "text/x-python",
      "name": "python",
      "nbconvert_exporter": "python",
      "pygments_lexer": "ipython3",
      "version": "3.6.9"
    },
    "colab": {
      "name": "pose_results.ipynb",
      "provenance": [],
      "collapsed_sections": [],
      "include_colab_link": true
    },
    "accelerator": "GPU"
  },
  "cells": [
    {
      "cell_type": "markdown",
      "metadata": {
        "id": "view-in-github",
        "colab_type": "text"
      },
      "source": [
        "<a href=\"https://colab.research.google.com/github/Johansmm/RT-multiperson-pose-pytorch/blob/imt-atlantique/pose_results.ipynb\" target=\"_parent\"><img src=\"https://colab.research.google.com/assets/colab-badge.svg\" alt=\"Open In Colab\"/></a>"
      ]
    },
    {
      "cell_type": "markdown",
      "metadata": {
        "id": "xrjZTtw2rMCf"
      },
      "source": [
        "# Deep Learning project\n",
        "Intro by Tatiana"
      ]
    },
    {
      "cell_type": "code",
      "metadata": {
        "id": "QiaLI5xU4EeM",
        "outputId": "b13aa773-815d-40f3-bfce-112b33095c1f",
        "colab": {
          "base_uri": "https://localhost:8080/"
        }
      },
      "source": [
        "# Libraries\n",
        "# Colab libraries\n",
        "from google.colab import drive\n",
        "from google.colab import output\n",
        "drive.mount('/content/gdrive')\n",
        "colab_path = \"/content/gdrive/My Drive/Colab Notebooks/\"\n",
        "\n",
        "# Basis libraries\n",
        "import os, re, sys, math, time, scipy, argparse\n",
        "import cv2, matplotlib\n",
        "import numpy as np\n",
        "import pylab as plt\n",
        "import torch\n",
        "import torch.nn as nn\n",
        "import torch.nn.functional as F\n",
        "from torch.autograd import Variable\n",
        "from collections import OrderedDict\n",
        "from scipy.ndimage.morphology import generate_binary_structure\n",
        "from scipy.ndimage.filters import gaussian_filter, maximum_filter"
      ],
      "execution_count": 22,
      "outputs": [
        {
          "output_type": "stream",
          "text": [
            "Drive already mounted at /content/gdrive; to attempt to forcibly remount, call drive.mount(\"/content/gdrive\", force_remount=True).\n"
          ],
          "name": "stdout"
        }
      ]
    },
    {
      "cell_type": "markdown",
      "metadata": {
        "id": "V1b25TcW4ik9"
      },
      "source": [
        "## Section 0: Download and install repository\n",
        "First, we will download the repository that we copied from the [original repository](https://github.com/tensorboy/pytorch_Realtime_Multi-Person_Pose_Estimation) in order to make some changes for educational purposes. Then, we install libraries and some dependences explained in the original repository."
      ]
    },
    {
      "cell_type": "code",
      "metadata": {
        "id": "dKtbnvkHrBfA",
        "outputId": "c614cbe2-2ad2-4171-a237-4aa314e74437",
        "colab": {
          "base_uri": "https://localhost:8080/"
        }
      },
      "source": [
        "# Independence install\n",
        "!sudo apt-get install swig\n",
        "%cd $colab_path\n",
        "if not os.path.isdir(\"RT-multiperson-pose-pytorch\"):\n",
        "  # Repository clone\n",
        "  !git clone https://github.com/Johansmm/RT-multiperson-pose-pytorch.git\n",
        "  %cd \"RT-multiperson-pose-pytorch\"\n",
        "  %cd lib/pafprocess \n",
        "  # Repository compile\n",
        "  !sh make.sh\n",
        "\n",
        "# Libraries install\n",
        "%cd $colab_path\"/RT-multiperson-pose-pytorch\"\n",
        "!python -m pip install -r ./requirements.txt\n",
        "!git submodule init && git submodule update\n",
        "# Weights download\n",
        "if not os.path.isfile(\"./pose_model.pth\"):\n",
        "  !wget https://www.dropbox.com/s/ae071mfm2qoyc8v/pose_model.pth\n",
        "output.clear()\n",
        "print(\"[INFO]: Proyect uploaded successfully\")"
      ],
      "execution_count": 24,
      "outputs": [
        {
          "output_type": "stream",
          "text": [
            "[INFO]: Proyect uploaded successfully\n"
          ],
          "name": "stdout"
        }
      ]
    },
    {
      "cell_type": "code",
      "metadata": {
        "id": "OXqO9ha9lQao",
        "outputId": "36dcbc40-b870-4d61-f2c8-50bd7da9ec0e",
        "colab": {
          "base_uri": "https://localhost:8080/"
        }
      },
      "source": [
        "!python demo/picture_demo.py"
      ],
      "execution_count": 25,
      "outputs": [
        {
          "output_type": "stream",
          "text": [
            "Bulding VGG19\n",
            "0.5459940652818991\n"
          ],
          "name": "stdout"
        }
      ]
    },
    {
      "cell_type": "code",
      "metadata": {
        "id": "MNWcHBWR6K7n",
        "outputId": "23e06215-7087-4c01-e236-f896a8c28584",
        "colab": {
          "base_uri": "https://localhost:8080/"
        }
      },
      "source": [
        "# Framework libraries\n",
        "%cd $colab_path\"/RT-multiperson-pose-pytorch\"\n",
        "sys.path.append('.')\n",
        "from lib.network.rtpose_vgg import get_model\n",
        "from lib.network import im_transform\n",
        "from lib.utils.common import Human, BodyPart, CocoPart, CocoColors, CocoPairsRender, draw_humans\n",
        "from lib.utils.paf_to_pose import paf_to_pose_cpp\n",
        "from lib.config import cfg, update_config\n",
        "from evaluate.coco_eval import get_outputs, handle_paf_and_heat\n",
        "data_download = False # For download COCO dataset"
      ],
      "execution_count": 26,
      "outputs": [
        {
          "output_type": "stream",
          "text": [
            "/content/gdrive/My Drive/Colab Notebooks/RT-multiperson-pose-pytorch\n"
          ],
          "name": "stdout"
        }
      ]
    },
    {
      "cell_type": "markdown",
      "metadata": {
        "id": "174xVRPR9QN-"
      },
      "source": [
        "## Section 2: Replication of results\n",
        "In this section we replicated some resutls. First, we need download the data. For this case, we will use the `sh` compiler provided by [original repository](https://github.com/tensorboy/pytorch_Realtime_Multi-Person_Pose_Estimation)"
      ]
    },
    {
      "cell_type": "code",
      "metadata": {
        "id": "3uBTojMrmtud",
        "outputId": "b6a2ccfe-ffdc-42c6-9b5e-0cf02587ad51",
        "colab": {
          "base_uri": "https://localhost:8080/"
        }
      },
      "source": [
        "%cd $colab_path\"/RT-multiperson-pose-pytorch\"\n",
        "if data_download and not os.path.isdir(\"data/coco\"):\n",
        "  !mkdir data\n",
        "  %cd data\n",
        "  !sh ../lib/datasets/CocoDataDownloader.sh\n",
        "  %cd $colab_path\"/RT-multiperson-pose-pytorch\"\n",
        "  output.clear()\n",
        "  print(\"[INFO]: Coco database downloaded successfully\")"
      ],
      "execution_count": 27,
      "outputs": [
        {
          "output_type": "stream",
          "text": [
            "/content/gdrive/My Drive/Colab Notebooks/RT-multiperson-pose-pytorch\n"
          ],
          "name": "stdout"
        }
      ]
    },
    {
      "cell_type": "markdown",
      "metadata": {
        "id": "MekeFPVJ2gKJ"
      },
      "source": [
        "Now, we defined some principal functions."
      ]
    },
    {
      "cell_type": "code",
      "metadata": {
        "id": "78deQRcV2mOz",
        "outputId": "9316dca3-a733-4c0e-a6d3-14d385d76fa4",
        "colab": {
          "base_uri": "https://localhost:8080/"
        }
      },
      "source": [
        "%cd $colab_path\"/RT-multiperson-pose-pytorch\"\n",
        "class Namespace:\n",
        "  def __init__(self, **kwargs):\n",
        "    self.__dict__.update(kwargs)\n",
        "\n",
        "def load_rtpose_model():\n",
        "  args = Namespace(cfg = './experiments/vgg19_368x368_sgd.yaml', weight = 'pose_model.pth', opts = [])\n",
        "  update_config(cfg, args)\n",
        "  model = get_model('vgg19')     \n",
        "  model.load_state_dict(torch.load(args.weight))\n",
        "  model = torch.nn.DataParallel(model).cuda()\n",
        "  model.float()\n",
        "  model.eval()\n",
        "  return model\n",
        "\n",
        "def im_forward(image, model):\n",
        "  with torch.no_grad():\n",
        "    paf, heatmap, im_scale = get_outputs(image, model, 'rtpose')\n",
        "  return paf, heatmap, im_scale\n",
        "\n",
        "model = load_rtpose_model()"
      ],
      "execution_count": 28,
      "outputs": [
        {
          "output_type": "stream",
          "text": [
            "/content/gdrive/My Drive/Colab Notebooks/RT-multiperson-pose-pytorch\n",
            "Bulding VGG19\n"
          ],
          "name": "stdout"
        }
      ]
    },
    {
      "cell_type": "code",
      "metadata": {
        "id": "NYUR_206xALE",
        "outputId": "33200486-a9b2-4b2b-9d2a-ff0975c4a2ed",
        "colab": {
          "base_uri": "https://localhost:8080/"
        }
      },
      "source": [
        "image = cv2.imread('./data/coco/images/train2017/000000000370.jpg')\n",
        "print(image)\n",
        "# paf, heatmap, im_scale = im_forward(image, model)\n",
        "# humans = paf_to_pose_cpp(heatmap, paf, cfg)\n",
        "# for hum in humans:\n",
        "#   print(dir(hum))\n",
        "\n",
        "# out = draw_humans(image, humans)\n",
        "# plt.imshow(out)"
      ],
      "execution_count": 34,
      "outputs": [
        {
          "output_type": "stream",
          "text": [
            "[[[61 77 76]\n",
            "  [60 76 75]\n",
            "  [58 76 75]\n",
            "  ...\n",
            "  [14 22 21]\n",
            "  [10 20 20]\n",
            "  [ 9 19 19]]\n",
            "\n",
            " [[66 78 78]\n",
            "  [64 78 77]\n",
            "  [64 78 77]\n",
            "  ...\n",
            "  [11 21 21]\n",
            "  [10 20 20]\n",
            "  [10 20 20]]\n",
            "\n",
            " [[68 79 77]\n",
            "  [66 79 77]\n",
            "  [65 78 76]\n",
            "  ...\n",
            "  [10 22 22]\n",
            "  [ 9 21 21]\n",
            "  [ 9 21 21]]\n",
            "\n",
            " ...\n",
            "\n",
            " [[15 34 42]\n",
            "  [19 34 43]\n",
            "  [20 35 44]\n",
            "  ...\n",
            "  [ 5 20 29]\n",
            "  [ 8 20 30]\n",
            "  [ 8 20 30]]\n",
            "\n",
            " [[17 33 39]\n",
            "  [19 33 39]\n",
            "  [21 33 39]\n",
            "  ...\n",
            "  [ 6 22 28]\n",
            "  [ 8 22 28]\n",
            "  [ 9 23 29]]\n",
            "\n",
            " [[12 29 32]\n",
            "  [15 27 31]\n",
            "  [16 27 31]\n",
            "  ...\n",
            "  [10 27 30]\n",
            "  [14 29 32]\n",
            "  [17 29 33]]]\n"
          ],
          "name": "stdout"
        }
      ]
    },
    {
      "cell_type": "code",
      "metadata": {
        "id": "XM88fGToxGPB",
        "outputId": "e5bb6508-e565-4c41-84b6-c4bd3b016da5",
        "colab": {
          "base_uri": "https://localhost:8080/"
        }
      },
      "source": [
        "# Colab libraries\n",
        "from google.colab import drive\n",
        "from google.colab import output\n",
        "drive.mount('/content/gdrive')\n",
        "\n",
        "%cd \"/content/gdrive/My Drive/Colab Notebooks/RT-multiperson-pose-pytorch\"\n",
        "!git config --global user.email \"johan-steven.mejia-mogollon@imt-atlantique.com\"\n",
        "!git config --global user.name \"Johansmm\"\n",
        "!git remote set-url origin \"https://github.com/Johansmm/RT-multiperson-pose-pytorch.git\"\n",
        "# !git commit -am \"Updating in colab\"\n",
        "# !git reset --hard\n",
        "!git pull origin imt-atlantique\n",
        "# !git push origin imt-atlantique"
      ],
      "execution_count": null,
      "outputs": [
        {
          "output_type": "stream",
          "text": [
            "Drive already mounted at /content/gdrive; to attempt to forcibly remount, call drive.mount(\"/content/gdrive\", force_remount=True).\n",
            "/content/gdrive/My Drive/Colab Notebooks/RT-multiperson-pose-pytorch\n",
            "From https://github.com/Johansmm/RT-multiperson-pose-pytorch\n",
            " * branch            imt-atlantique -> FETCH_HEAD\n",
            "Already up to date.\n"
          ],
          "name": "stdout"
        }
      ]
    },
    {
      "cell_type": "code",
      "metadata": {
        "id": "wOTNnyQsDfXb"
      },
      "source": [
        ""
      ],
      "execution_count": null,
      "outputs": []
    }
  ]
}