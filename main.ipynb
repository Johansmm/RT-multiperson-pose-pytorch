{
  "nbformat": 4,
  "nbformat_minor": 0,
  "metadata": {
    "kernelspec": {
      "display_name": "Python 3",
      "language": "python",
      "name": "python3"
    },
    "language_info": {
      "codemirror_mode": {
        "name": "ipython",
        "version": 3
      },
      "file_extension": ".py",
      "mimetype": "text/x-python",
      "name": "python",
      "nbconvert_exporter": "python",
      "pygments_lexer": "ipython3",
      "version": "3.6.9"
    },
    "colab": {
      "name": "main.ipynb",
      "provenance": []
    },
    "accelerator": "GPU"
  },
  "cells": [
    {
      "cell_type": "markdown",
      "metadata": {
        "id": "xrjZTtw2rMCf"
      },
      "source": [
        "# Deep Learning project\n",
        "Intro by Tatiana"
      ]
    },
    {
      "cell_type": "markdown",
      "metadata": {
        "id": "V1b25TcW4ik9"
      },
      "source": [
        "## Section 0: Download and install repository\n",
        "First, we will download the repository that we copied from the [original repository](https://github.com/tensorboy/pytorch_Realtime_Multi-Person_Pose_Estimation) in order to make some changes for educational purposes. Then, we install libraries and some dependences explained in the original repository."
      ]
    },
    {
      "cell_type": "code",
      "metadata": {
        "id": "dKtbnvkHrBfA",
        "outputId": "42494f58-90a1-48fd-fa3e-5473c444aa8b",
        "colab": {
          "base_uri": "https://localhost:8080/",
          "height": 972
        }
      },
      "source": [
        "import os\n",
        "from google.colab import drive\n",
        "drive.mount('/content/gdrive')\n",
        "colab_path = \"/content/gdrive/My Drive/Colab Notebooks/\"\n",
        "\n",
        "# Independence install\n",
        "!sudo apt-get install swig\n",
        "%cd $colab_path\n",
        "# Repository clone\n",
        "!git clone https://github.com/Johansmm/RT-multiperson-pose-pytorch.git\n",
        "%cd \"RT-multiperson-pose-pytorch\"\n",
        "# Libraries install\n",
        "!python -m pip install -U -r ./requirements.txt\n",
        "!git submodule init && git submodule update\n",
        "%cd lib/pafprocess \n",
        "# Repository compile\n",
        "!sh make.sh\n",
        "%cd $colab_path\"/RT-multiperson-pose-pytorch\"\n",
        "# Weights download\n",
        "if not os.path.isfile(\"./pose_model.pth\"):\n",
        "  !wget https://www.dropbox.com/s/ae071mfm2qoyc8v/pose_model.pth"
      ],
      "execution_count": 12,
      "outputs": [
        {
          "output_type": "stream",
          "text": [
            "Drive already mounted at /content/gdrive; to attempt to forcibly remount, call drive.mount(\"/content/gdrive\", force_remount=True).\n",
            "Reading package lists... Done\n",
            "Building dependency tree       \n",
            "Reading state information... Done\n",
            "swig is already the newest version (3.0.12-1).\n",
            "0 upgraded, 0 newly installed, 0 to remove and 21 not upgraded.\n",
            "/content/gdrive/My Drive/Colab Notebooks\n",
            "fatal: destination path 'RT-multiperson-pose-pytorch' already exists and is not an empty directory.\n",
            "/content/gdrive/My Drive/Colab Notebooks/RT-multiperson-pose-pytorch\n",
            "Requirement already up-to-date: Cython in /usr/local/lib/python3.6/dist-packages (from -r ./requirements.txt (line 1)) (0.29.21)\n",
            "Requirement already up-to-date: torch>=1.2 in /usr/local/lib/python3.6/dist-packages (from -r ./requirements.txt (line 2)) (1.6.0+cu101)\n",
            "Requirement already up-to-date: torchvision>=0.4.0 in /usr/local/lib/python3.6/dist-packages (from -r ./requirements.txt (line 3)) (0.7.0+cu101)\n",
            "Requirement already up-to-date: progress in /usr/local/lib/python3.6/dist-packages (from -r ./requirements.txt (line 4)) (1.5)\n",
            "Requirement already up-to-date: matplotlib in /usr/local/lib/python3.6/dist-packages (from -r ./requirements.txt (line 5)) (3.3.2)\n",
            "Requirement already up-to-date: scipy in /usr/local/lib/python3.6/dist-packages (from -r ./requirements.txt (line 6)) (1.5.3)\n",
            "Requirement already up-to-date: pycocotools in /usr/local/lib/python3.6/dist-packages (from -r ./requirements.txt (line 7)) (2.0.2)\n",
            "Requirement already up-to-date: yacs in /usr/local/lib/python3.6/dist-packages (from -r ./requirements.txt (line 8)) (0.1.8)\n",
            "Requirement already satisfied, skipping upgrade: future in /usr/local/lib/python3.6/dist-packages (from torch>=1.2->-r ./requirements.txt (line 2)) (0.16.0)\n",
            "Requirement already satisfied, skipping upgrade: numpy in /usr/local/lib/python3.6/dist-packages (from torch>=1.2->-r ./requirements.txt (line 2)) (1.18.5)\n",
            "Requirement already satisfied, skipping upgrade: pillow>=4.1.1 in /usr/local/lib/python3.6/dist-packages (from torchvision>=0.4.0->-r ./requirements.txt (line 3)) (7.0.0)\n",
            "Requirement already satisfied, skipping upgrade: kiwisolver>=1.0.1 in /usr/local/lib/python3.6/dist-packages (from matplotlib->-r ./requirements.txt (line 5)) (1.2.0)\n",
            "Requirement already satisfied, skipping upgrade: python-dateutil>=2.1 in /usr/local/lib/python3.6/dist-packages (from matplotlib->-r ./requirements.txt (line 5)) (2.8.1)\n",
            "Requirement already satisfied, skipping upgrade: cycler>=0.10 in /usr/local/lib/python3.6/dist-packages (from matplotlib->-r ./requirements.txt (line 5)) (0.10.0)\n",
            "Requirement already satisfied, skipping upgrade: certifi>=2020.06.20 in /usr/local/lib/python3.6/dist-packages (from matplotlib->-r ./requirements.txt (line 5)) (2020.6.20)\n",
            "Requirement already satisfied, skipping upgrade: pyparsing!=2.0.4,!=2.1.2,!=2.1.6,>=2.0.3 in /usr/local/lib/python3.6/dist-packages (from matplotlib->-r ./requirements.txt (line 5)) (2.4.7)\n",
            "Requirement already satisfied, skipping upgrade: setuptools>=18.0 in /usr/local/lib/python3.6/dist-packages (from pycocotools->-r ./requirements.txt (line 7)) (50.3.0)\n",
            "Requirement already satisfied, skipping upgrade: PyYAML in /usr/local/lib/python3.6/dist-packages (from yacs->-r ./requirements.txt (line 8)) (3.13)\n",
            "Requirement already satisfied, skipping upgrade: six>=1.5 in /usr/local/lib/python3.6/dist-packages (from python-dateutil>=2.1->matplotlib->-r ./requirements.txt (line 5)) (1.15.0)\n",
            "/content/gdrive/My Drive/Colab Notebooks/RT-multiperson-pose-pytorch/lib/pafprocess\n",
            "running build_ext\n",
            "/content/gdrive/My Drive/Colab Notebooks/RT-multiperson-pose-pytorch\n",
            "--2020-10-26 17:19:49--  https://www.dropbox.com/s/ae071mfm2qoyc8v/pose_model.pth\n",
            "Resolving www.dropbox.com (www.dropbox.com)... 162.125.1.1, 2620:100:6016:1::a27d:101\n",
            "Connecting to www.dropbox.com (www.dropbox.com)|162.125.1.1|:443... connected.\n",
            "HTTP request sent, awaiting response... 301 Moved Permanently\n",
            "Location: /s/raw/ae071mfm2qoyc8v/pose_model.pth [following]\n",
            "--2020-10-26 17:19:49--  https://www.dropbox.com/s/raw/ae071mfm2qoyc8v/pose_model.pth\n",
            "Reusing existing connection to www.dropbox.com:443.\n",
            "HTTP request sent, awaiting response... 302 Found\n",
            "Location: https://ucc7cc8e59e13936b31b475c99ac.dl.dropboxusercontent.com/cd/0/inline/BCDur6i0s4IS7Bm8SYLoWbUPGj7qInACP9R7Wn6kEPRhCXkU5ethVxNJP2_B0CuHlZVWilhLajR1dYJm7RhzW0-hSVgwShlz9U6B15Fb8xZFlQ/file# [following]\n",
            "--2020-10-26 17:19:50--  https://ucc7cc8e59e13936b31b475c99ac.dl.dropboxusercontent.com/cd/0/inline/BCDur6i0s4IS7Bm8SYLoWbUPGj7qInACP9R7Wn6kEPRhCXkU5ethVxNJP2_B0CuHlZVWilhLajR1dYJm7RhzW0-hSVgwShlz9U6B15Fb8xZFlQ/file\n",
            "Resolving ucc7cc8e59e13936b31b475c99ac.dl.dropboxusercontent.com (ucc7cc8e59e13936b31b475c99ac.dl.dropboxusercontent.com)... 162.125.1.15, 2620:100:6016:15::a27d:10f\n",
            "Connecting to ucc7cc8e59e13936b31b475c99ac.dl.dropboxusercontent.com (ucc7cc8e59e13936b31b475c99ac.dl.dropboxusercontent.com)|162.125.1.15|:443... connected.\n",
            "HTTP request sent, awaiting response... 302 Found\n",
            "Location: /cd/0/inline2/BCDrk7S0TrGYD65Fakw9sCBTbwmRLK5ftb5fj-WTZ6cjoVfOoCbSg2jCQHtuK0HT9yE5Z9H9ivgKLjubXKQdHnrG_cOp5WAJDle8F_p-zMLaNaWqqzBi5Q5cbBmi9U5lvxMYNcILd4VXwQ_IyJIQchl2iok52OoQL4lOVBYXWn_6E8eFcyhGfHi1kifgWv2-vhtIEZQYRw546Cx3QfNKGhHiq2Q9rOg9JYO_btm7M-DdxLZFQR0JEEV4w5ncuUDo9V_QFt2qIVDVAhz4dQM3YRFqbaNnYdhM23OiM3KrmJVZXCpIELTbZqfEuSJO4GnRvurxXkCDYliAtbJPE-cjSrwy/file [following]\n",
            "--2020-10-26 17:19:50--  https://ucc7cc8e59e13936b31b475c99ac.dl.dropboxusercontent.com/cd/0/inline2/BCDrk7S0TrGYD65Fakw9sCBTbwmRLK5ftb5fj-WTZ6cjoVfOoCbSg2jCQHtuK0HT9yE5Z9H9ivgKLjubXKQdHnrG_cOp5WAJDle8F_p-zMLaNaWqqzBi5Q5cbBmi9U5lvxMYNcILd4VXwQ_IyJIQchl2iok52OoQL4lOVBYXWn_6E8eFcyhGfHi1kifgWv2-vhtIEZQYRw546Cx3QfNKGhHiq2Q9rOg9JYO_btm7M-DdxLZFQR0JEEV4w5ncuUDo9V_QFt2qIVDVAhz4dQM3YRFqbaNnYdhM23OiM3KrmJVZXCpIELTbZqfEuSJO4GnRvurxXkCDYliAtbJPE-cjSrwy/file\n",
            "Reusing existing connection to ucc7cc8e59e13936b31b475c99ac.dl.dropboxusercontent.com:443.\n",
            "HTTP request sent, awaiting response... 200 OK\n",
            "Length: 209266467 (200M) [application/octet-stream]\n",
            "Saving to: ‘pose_model.pth’\n",
            "\n",
            "pose_model.pth      100%[===================>] 199.57M  74.3MB/s    in 2.7s    \n",
            "\n",
            "2020-10-26 17:19:53 (74.3 MB/s) - ‘pose_model.pth’ saved [209266467/209266467]\n",
            "\n"
          ],
          "name": "stdout"
        }
      ]
    },
    {
      "cell_type": "code",
      "metadata": {
        "id": "OXqO9ha9lQao",
        "outputId": "b0282f38-9604-4c16-c5a0-0a8adfd1fd0b",
        "colab": {
          "base_uri": "https://localhost:8080/",
          "height": 204
        }
      },
      "source": [
        "!python demo/picture_demo.py"
      ],
      "execution_count": 9,
      "outputs": [
        {
          "output_type": "stream",
          "text": [
            "Bulding VGG19\n",
            "Traceback (most recent call last):\n",
            "  File \"demo/picture_demo.py\", line 46, in <module>\n",
            "    model.load_state_dict(torch.load(args.weight))\n",
            "  File \"/usr/local/lib/python3.6/dist-packages/torch/serialization.py\", line 571, in load\n",
            "    with _open_file_like(f, 'rb') as opened_file:\n",
            "  File \"/usr/local/lib/python3.6/dist-packages/torch/serialization.py\", line 229, in _open_file_like\n",
            "    return _open_file(name_or_buffer, mode)\n",
            "  File \"/usr/local/lib/python3.6/dist-packages/torch/serialization.py\", line 210, in __init__\n",
            "    super(_open_file, self).__init__(open(name, mode))\n",
            "FileNotFoundError: [Errno 2] No such file or directory: 'pose_model.pth'\n"
          ],
          "name": "stdout"
        }
      ]
    },
    {
      "cell_type": "code",
      "metadata": {
        "id": "3uBTojMrmtud"
      },
      "source": [
        ""
      ],
      "execution_count": null,
      "outputs": []
    }
  ]
}