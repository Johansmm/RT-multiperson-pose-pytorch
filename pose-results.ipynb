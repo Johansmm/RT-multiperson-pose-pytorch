{
  "nbformat": 4,
  "nbformat_minor": 0,
  "metadata": {
    "kernelspec": {
      "display_name": "Python 3",
      "language": "python",
      "name": "python3"
    },
    "language_info": {
      "codemirror_mode": {
        "name": "ipython",
        "version": 3
      },
      "file_extension": ".py",
      "mimetype": "text/x-python",
      "name": "python",
      "nbconvert_exporter": "python",
      "pygments_lexer": "ipython3",
      "version": "3.6.9"
    },
    "colab": {
      "name": "main.ipynb",
      "provenance": [],
      "collapsed_sections": []
    },
    "accelerator": "GPU"
  },
  "cells": [
    {
      "cell_type": "markdown",
      "metadata": {
        "id": "xrjZTtw2rMCf"
      },
      "source": [
        "# Deep Learning project\n",
        "Intro by Tatiana"
      ]
    },
    {
      "cell_type": "markdown",
      "metadata": {
        "id": "V1b25TcW4ik9"
      },
      "source": [
        "## Section 0: Download and install repository\n",
        "First, we will download the repository that we copied from the [original repository](https://github.com/tensorboy/pytorch_Realtime_Multi-Person_Pose_Estimation) in order to make some changes for educational purposes. Then, we install libraries and some dependences explained in the original repository."
      ]
    },
    {
      "cell_type": "code",
      "metadata": {
        "id": "dKtbnvkHrBfA",
        "outputId": "8ed7d841-84b9-49b7-a3f6-6a34dc158c8b",
        "colab": {
          "base_uri": "https://localhost:8080/",
          "height": 1000
        }
      },
      "source": [
        "import os\n",
        "from google.colab import drive\n",
        "drive.mount('/content/gdrive')\n",
        "colab_path = \"/content/gdrive/My Drive/Colab Notebooks/\"\n",
        "\n",
        "# Independence install\n",
        "!sudo apt-get install swig\n",
        "%cd $colab_path\n",
        "# Repository clone\n",
        "!git clone https://github.com/Johansmm/RT-multiperson-pose-pytorch.git\n",
        "%cd \"RT-multiperson-pose-pytorch\"\n",
        "# Libraries install\n",
        "!python -m pip install -U -r ./requirements.txt\n",
        "!git submodule init && git submodule update\n",
        "%cd lib/pafprocess \n",
        "# Repository compile\n",
        "!sh make.sh\n",
        "%cd $colab_path\"/RT-multiperson-pose-pytorch\"\n",
        "# Weights download\n",
        "if not os.path.isfile(\"./pose_model.pth\"):\n",
        "  !wget https://www.dropbox.com/s/ae071mfm2qoyc8v/pose_model.pth"
      ],
      "execution_count": 1,
      "outputs": [
        {
          "output_type": "stream",
          "text": [
            "Mounted at /content/gdrive\n",
            "Reading package lists... Done\n",
            "Building dependency tree       \n",
            "Reading state information... Done\n",
            "The following additional packages will be installed:\n",
            "  swig3.0\n",
            "Suggested packages:\n",
            "  swig-doc swig-examples swig3.0-examples swig3.0-doc\n",
            "The following NEW packages will be installed:\n",
            "  swig swig3.0\n",
            "0 upgraded, 2 newly installed, 0 to remove and 21 not upgraded.\n",
            "Need to get 1,100 kB of archives.\n",
            "After this operation, 5,822 kB of additional disk space will be used.\n",
            "Get:1 http://archive.ubuntu.com/ubuntu bionic/universe amd64 swig3.0 amd64 3.0.12-1 [1,094 kB]\n",
            "Get:2 http://archive.ubuntu.com/ubuntu bionic/universe amd64 swig amd64 3.0.12-1 [6,460 B]\n",
            "Fetched 1,100 kB in 1s (1,074 kB/s)\n",
            "debconf: unable to initialize frontend: Dialog\n",
            "debconf: (No usable dialog-like program is installed, so the dialog based frontend cannot be used. at /usr/share/perl5/Debconf/FrontEnd/Dialog.pm line 76, <> line 2.)\n",
            "debconf: falling back to frontend: Readline\n",
            "debconf: unable to initialize frontend: Readline\n",
            "debconf: (This frontend requires a controlling tty.)\n",
            "debconf: falling back to frontend: Teletype\n",
            "dpkg-preconfigure: unable to re-open stdin: \n",
            "Selecting previously unselected package swig3.0.\n",
            "(Reading database ... 144611 files and directories currently installed.)\n",
            "Preparing to unpack .../swig3.0_3.0.12-1_amd64.deb ...\n",
            "Unpacking swig3.0 (3.0.12-1) ...\n",
            "Selecting previously unselected package swig.\n",
            "Preparing to unpack .../swig_3.0.12-1_amd64.deb ...\n",
            "Unpacking swig (3.0.12-1) ...\n",
            "Setting up swig3.0 (3.0.12-1) ...\n",
            "Setting up swig (3.0.12-1) ...\n",
            "Processing triggers for man-db (2.8.3-2ubuntu0.1) ...\n",
            "/content/gdrive/My Drive/Colab Notebooks\n",
            "fatal: destination path 'RT-multiperson-pose-pytorch' already exists and is not an empty directory.\n",
            "/content/gdrive/My Drive/Colab Notebooks/RT-multiperson-pose-pytorch\n",
            "Requirement already up-to-date: Cython in /usr/local/lib/python3.6/dist-packages (from -r ./requirements.txt (line 1)) (0.29.21)\n",
            "Requirement already up-to-date: torch>=1.2 in /usr/local/lib/python3.6/dist-packages (from -r ./requirements.txt (line 2)) (1.6.0+cu101)\n",
            "Requirement already up-to-date: torchvision>=0.4.0 in /usr/local/lib/python3.6/dist-packages (from -r ./requirements.txt (line 3)) (0.7.0+cu101)\n",
            "Collecting progress\n",
            "  Downloading https://files.pythonhosted.org/packages/38/ef/2e887b3d2b248916fc2121889ce68af8a16aaddbe82f9ae6533c24ff0d2b/progress-1.5.tar.gz\n",
            "Collecting matplotlib\n",
            "\u001b[?25l  Downloading https://files.pythonhosted.org/packages/cd/d6/8c4dfb23151d5a494c66ebbfdb5c8c433b44ec07fae52da5939fcda0943f/matplotlib-3.3.2-cp36-cp36m-manylinux1_x86_64.whl (11.6MB)\n",
            "\u001b[K     |████████████████████████████████| 11.6MB 268kB/s \n",
            "\u001b[?25hCollecting scipy\n",
            "\u001b[?25l  Downloading https://files.pythonhosted.org/packages/8a/14/d0475ceeaa047f3eae2dc7597c3d40228e1d5beee42c1730f3c96ffb5526/scipy-1.5.3-cp36-cp36m-manylinux1_x86_64.whl (25.9MB)\n",
            "\u001b[K     |████████████████████████████████| 25.9MB 119kB/s \n",
            "\u001b[?25hRequirement already up-to-date: pycocotools in /usr/local/lib/python3.6/dist-packages (from -r ./requirements.txt (line 7)) (2.0.2)\n",
            "Collecting yacs\n",
            "  Downloading https://files.pythonhosted.org/packages/38/4f/fe9a4d472aa867878ce3bb7efb16654c5d63672b86dc0e6e953a67018433/yacs-0.1.8-py3-none-any.whl\n",
            "Requirement already satisfied, skipping upgrade: future in /usr/local/lib/python3.6/dist-packages (from torch>=1.2->-r ./requirements.txt (line 2)) (0.16.0)\n",
            "Requirement already satisfied, skipping upgrade: numpy in /usr/local/lib/python3.6/dist-packages (from torch>=1.2->-r ./requirements.txt (line 2)) (1.18.5)\n",
            "Requirement already satisfied, skipping upgrade: pillow>=4.1.1 in /usr/local/lib/python3.6/dist-packages (from torchvision>=0.4.0->-r ./requirements.txt (line 3)) (7.0.0)\n",
            "Requirement already satisfied, skipping upgrade: pyparsing!=2.0.4,!=2.1.2,!=2.1.6,>=2.0.3 in /usr/local/lib/python3.6/dist-packages (from matplotlib->-r ./requirements.txt (line 5)) (2.4.7)\n",
            "Requirement already satisfied, skipping upgrade: python-dateutil>=2.1 in /usr/local/lib/python3.6/dist-packages (from matplotlib->-r ./requirements.txt (line 5)) (2.8.1)\n",
            "Requirement already satisfied, skipping upgrade: kiwisolver>=1.0.1 in /usr/local/lib/python3.6/dist-packages (from matplotlib->-r ./requirements.txt (line 5)) (1.2.0)\n",
            "Requirement already satisfied, skipping upgrade: cycler>=0.10 in /usr/local/lib/python3.6/dist-packages (from matplotlib->-r ./requirements.txt (line 5)) (0.10.0)\n",
            "Requirement already satisfied, skipping upgrade: certifi>=2020.06.20 in /usr/local/lib/python3.6/dist-packages (from matplotlib->-r ./requirements.txt (line 5)) (2020.6.20)\n",
            "Requirement already satisfied, skipping upgrade: setuptools>=18.0 in /usr/local/lib/python3.6/dist-packages (from pycocotools->-r ./requirements.txt (line 7)) (50.3.0)\n",
            "Requirement already satisfied, skipping upgrade: PyYAML in /usr/local/lib/python3.6/dist-packages (from yacs->-r ./requirements.txt (line 8)) (3.13)\n",
            "Requirement already satisfied, skipping upgrade: six>=1.5 in /usr/local/lib/python3.6/dist-packages (from python-dateutil>=2.1->matplotlib->-r ./requirements.txt (line 5)) (1.15.0)\n",
            "Building wheels for collected packages: progress\n",
            "  Building wheel for progress (setup.py) ... \u001b[?25l\u001b[?25hdone\n",
            "  Created wheel for progress: filename=progress-1.5-cp36-none-any.whl size=8074 sha256=c802777f63e4be8a3b2c2794ccab29d0b3e8e79201540862d86c32a4880f6ab2\n",
            "  Stored in directory: /root/.cache/pip/wheels/6c/c8/80/32a294e3041f006c661838c05a411c7b7ffc60ff939d14e116\n",
            "Successfully built progress\n",
            "\u001b[31mERROR: tensorflow 2.3.0 has requirement scipy==1.4.1, but you'll have scipy 1.5.3 which is incompatible.\u001b[0m\n",
            "\u001b[31mERROR: albumentations 0.1.12 has requirement imgaug<0.2.7,>=0.2.5, but you'll have imgaug 0.2.9 which is incompatible.\u001b[0m\n",
            "Installing collected packages: progress, matplotlib, scipy, yacs\n",
            "  Found existing installation: matplotlib 3.2.2\n",
            "    Uninstalling matplotlib-3.2.2:\n",
            "      Successfully uninstalled matplotlib-3.2.2\n",
            "  Found existing installation: scipy 1.4.1\n",
            "    Uninstalling scipy-1.4.1:\n",
            "      Successfully uninstalled scipy-1.4.1\n",
            "Successfully installed matplotlib-3.3.2 progress-1.5 scipy-1.5.3 yacs-0.1.8\n",
            "/content/gdrive/My Drive/Colab Notebooks/RT-multiperson-pose-pytorch/lib/pafprocess\n",
            "running build_ext\n",
            "/content/gdrive/My Drive/Colab Notebooks/RT-multiperson-pose-pytorch\n"
          ],
          "name": "stdout"
        }
      ]
    },
    {
      "cell_type": "code",
      "metadata": {
        "id": "OXqO9ha9lQao",
        "outputId": "0b3285ff-e2a4-45f1-a14a-36ecc3eb89d7",
        "colab": {
          "base_uri": "https://localhost:8080/",
          "height": 51
        }
      },
      "source": [
        "!python demo/picture_demo.py"
      ],
      "execution_count": 2,
      "outputs": [
        {
          "output_type": "stream",
          "text": [
            "Bulding VGG19\n",
            "0.5459940652818991\n"
          ],
          "name": "stdout"
        }
      ]
    },
    {
      "cell_type": "markdown",
      "metadata": {
        "id": "174xVRPR9QN-"
      },
      "source": [
        "## Section 2: Replication of results\n",
        "In this section we replicated the resutls."
      ]
    },
    {
      "cell_type": "code",
      "metadata": {
        "id": "3uBTojMrmtud"
      },
      "source": [
        ""
      ],
      "execution_count": null,
      "outputs": []
    }
  ]
}